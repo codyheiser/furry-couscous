{
 "cells": [
  {
   "cell_type": "code",
   "execution_count": 1,
   "metadata": {},
   "outputs": [
    {
     "name": "stdout",
     "output_type": "stream",
     "text": [
      "FIt-SNE repository not detected. Functionality will be disabled.\n"
     ]
    }
   ],
   "source": [
    "import sys\n",
    "sys.path.append('../')\n",
    "from fcc_DRs import *\n",
    "%matplotlib inline"
   ]
  },
  {
   "cell_type": "code",
   "execution_count": 6,
   "metadata": {},
   "outputs": [],
   "source": [
    "retina = RNA_counts.from_file('../inputs/GSM1626793_P14Retina_1.processed.norowlabels.tsv.gz', labels=[None,0], barcodefile='pymethods_out/retina_clu.csv')"
   ]
  },
  {
   "cell_type": "code",
   "execution_count": 5,
   "metadata": {},
   "outputs": [],
   "source": [
    "colon = RNA_counts.from_file('../inputs/GSM2743164_rep1_colon_rnaseq.processed.norowlabels.tsv.gz', labels=[None,0], barcodefile='pymethods_out/colon_clu.csv')"
   ]
  },
  {
   "cell_type": "markdown",
   "metadata": {},
   "source": [
    "---\n",
    "DR methods with ground-truth clusters"
   ]
  },
  {
   "cell_type": "code",
   "execution_count": 4,
   "metadata": {},
   "outputs": [],
   "source": [
    "retina_PCA2 = fcc_PCA(retina.arcsinh_norm(), barcodes=retina.barcodes, n_components=2)"
   ]
  },
  {
   "cell_type": "code",
   "execution_count": 6,
   "metadata": {},
   "outputs": [],
   "source": [
    "retina_PCA2.plot_barcodes(figsize=(4,4), save_to='../images/retina_PCA_barcodes.png')"
   ]
  },
  {
   "cell_type": "code",
   "execution_count": 6,
   "metadata": {},
   "outputs": [],
   "source": [
    "retina_DCA = DR.from_file('pymethods_out/retina_DCA.csv', name='DCA', labels=[None,None], barcodefile='pymethods_out/retina_clu.csv')\n",
    "retina_DCA = DR(latent=retina_DCA.arcsinh_norm(norm=None, scale=1), barcodes=retina_DCA.barcodes, name='DCA')\n",
    "retina_DCA.plot_barcodes(figsize=(4,4), save_to='../images/retina_DCA_barcodes.png')"
   ]
  },
  {
   "cell_type": "code",
   "execution_count": 21,
   "metadata": {},
   "outputs": [],
   "source": [
    "retina_scVI = DR.from_file('pymethods_out/retina_scVI_tSNE.csv', name='(scVI) t-SNE', labels=[None,None], barcodefile='pymethods_out/retina_clu.csv')\n",
    "retina_scVI.plot_barcodes(figsize=(4,4), save_to='../images/retina_scVI_barcodes.png')"
   ]
  },
  {
   "cell_type": "code",
   "execution_count": 23,
   "metadata": {},
   "outputs": [],
   "source": [
    "retina_tSNE = DR.from_file('pymethods_out/retina_tSNE.csv', name='t-SNE', labels=[None,None], barcodefile='pymethods_out/retina_clu.csv')\n",
    "retina_tSNE.plot_barcodes(figsize=(4,4), save_to='../images/retina_tSNE_barcodes.png')"
   ]
  },
  {
   "cell_type": "code",
   "execution_count": 45,
   "metadata": {},
   "outputs": [],
   "source": [
    "retina_FItSNE = DR.from_file('pymethods_out/retina_FItSNE.csv', name='FIt-SNE', labels=[None,None], barcodefile='pymethods_out/retina_clu.csv')\n",
    "retina_FItSNE.plot_barcodes(figsize=(4,4), save_to='../images/retina_FItSNE_barcodes.png')"
   ]
  },
  {
   "cell_type": "code",
   "execution_count": 24,
   "metadata": {},
   "outputs": [],
   "source": [
    "retina_UMAP = DR.from_file('pymethods_out/retina_UMAP.csv', name='UMAP', labels=[None,None], barcodefile='pymethods_out/retina_clu.csv')\n",
    "retina_UMAP.plot_barcodes(figsize=(4,4), save_to='../images/retina_UMAP_barcodes.png')"
   ]
  },
  {
   "cell_type": "code",
   "execution_count": 25,
   "metadata": {},
   "outputs": [],
   "source": [
    "retina_ZIFA = DR.from_file('pymethods_out/retina_ZIFA.csv', name='ZIFA', labels=[None,None], barcodefile='pymethods_out/retina_clu.csv')\n",
    "retina_ZIFA.plot_barcodes(figsize=(4,4), save_to='../images/retina_ZIFA_barcodes.png')"
   ]
  },
  {
   "cell_type": "code",
   "execution_count": 4,
   "metadata": {},
   "outputs": [],
   "source": [
    "retina_scvis = DR.from_file('scvis_out/retina/perplexity_30_regularizer_0.001_batch_size_512_learning_rate_0.01_latent_dimension_2_activation_ELU_seed_1_iter_3000.tsv', labels=[0,0], name='scvis', barcodefile='pymethods_out/retina_clu.csv')\n",
    "retina_scvis = DR(latent=retina_scvis.arcsinh_norm(norm=None, scale=1), barcodes=retina_scvis.barcodes, name='scvis')\n",
    "retina_scvis.plot_barcodes(figsize=(4,4), save_to='../images/retina_scvis_barcodes.png')"
   ]
  },
  {
   "cell_type": "code",
   "execution_count": 27,
   "metadata": {},
   "outputs": [],
   "source": [
    "retina_ZINBWAVE = DR.from_file('Rmethods_out/retina_ZINB-WAVE.csv', labels=[None,0], name='ZINB-WaVE', barcodefile='pymethods_out/retina_clu.csv')\n",
    "retina_ZINBWAVE.plot_barcodes(figsize=(4,4), save_to='../images/retina_ZINBWAVE_barcodes.png')"
   ]
  },
  {
   "cell_type": "code",
   "execution_count": 28,
   "metadata": {},
   "outputs": [],
   "source": [
    "retina_SIMLR = DR.from_file('Rmethods_out/retina_SIMLR_ydata.csv', labels=[None,0], name='SIMLR', barcodefile='pymethods_out/retina_clu.csv')\n",
    "retina_SIMLR.plot_barcodes(figsize=(4,4), save_to='../images/retina_SIMLR_barcodes.png')"
   ]
  },
  {
   "cell_type": "code",
   "execution_count": 29,
   "metadata": {},
   "outputs": [],
   "source": [
    "retina_GLMPCA = DR.from_file('Rmethods_out/retina_GLM-PCA.csv', labels=[None,0], name='GLM-PC', barcodefile='pymethods_out/retina_clu.csv')\n",
    "retina_GLMPCA.plot_barcodes(figsize=(4,4), save_to='../images/retina_GLMPCA_barcodes.png')"
   ]
  },
  {
   "cell_type": "markdown",
   "metadata": {},
   "source": [
    "---"
   ]
  },
  {
   "cell_type": "code",
   "execution_count": 12,
   "metadata": {},
   "outputs": [],
   "source": [
    "colon_PCA2 = fcc_PCA(colon.arcsinh_norm(), barcodes=colon.barcodes, n_components=2)"
   ]
  },
  {
   "cell_type": "code",
   "execution_count": 15,
   "metadata": {},
   "outputs": [],
   "source": [
    "colon_PCA2.plot_barcodes(figsize=(4,4), save_to='../images/colon_PCA_barcodes.png')"
   ]
  },
  {
   "cell_type": "code",
   "execution_count": 8,
   "metadata": {},
   "outputs": [],
   "source": [
    "colon_DCA = DR.from_file('pymethods_out/colon_DCA.csv', name='DCA', labels=[None,None], barcodefile='pymethods_out/colon_clu.csv')\n",
    "colon_DCA = DR(latent=colon_DCA.arcsinh_norm(norm=None, scale=1), barcodes=colon_DCA.barcodes, name='DCA')\n",
    "colon_DCA.plot_barcodes(figsize=(4,4), save_to='../images/colon_DCA_barcodes.png')"
   ]
  },
  {
   "cell_type": "code",
   "execution_count": 35,
   "metadata": {},
   "outputs": [],
   "source": [
    "colon_scVI = DR.from_file('pymethods_out/colon_scVI_tSNE.csv', name='(scVI) t-SNE', labels=[None,None], barcodefile='pymethods_out/colon_clu.csv')\n",
    "colon_scVI.plot_barcodes(figsize=(4,4), save_to='../images/colon_scVI_barcodes.png')"
   ]
  },
  {
   "cell_type": "code",
   "execution_count": 4,
   "metadata": {},
   "outputs": [],
   "source": [
    "colon_tSNE = DR.from_file('pymethods_out/colon_tSNE.csv', name='Dim', labels=[None,None], barcodefile='pymethods_out/colon_clu.csv')\n",
    "colon_tSNE.plot_barcodes(ranks=['0'],figsize=(3,3), save_to='../little_barcodes.png')\n",
    "#colon_tSNE.plot(figsize=(3,3), color=colon.arcsinh_norm().sum(axis=1), save_to='../little_UMI.png')"
   ]
  },
  {
   "cell_type": "code",
   "execution_count": 44,
   "metadata": {},
   "outputs": [],
   "source": [
    "colon_FItSNE = DR.from_file('pymethods_out/colon_FItSNE.csv', name='FIt-SNE', labels=[None,None], barcodefile='pymethods_out/colon_clu.csv')\n",
    "colon_FItSNE.plot_barcodes(figsize=(4,4), save_to='../images/colon_FItSNE_barcodes.png')"
   ]
  },
  {
   "cell_type": "code",
   "execution_count": 37,
   "metadata": {},
   "outputs": [],
   "source": [
    "colon_UMAP = DR.from_file('pymethods_out/colon_UMAP.csv', name='UMAP', labels=[None,None], barcodefile='pymethods_out/colon_clu.csv')\n",
    "colon_UMAP.plot_barcodes(figsize=(4,4), save_to='../images/colon_UMAP_barcodes.png')"
   ]
  },
  {
   "cell_type": "code",
   "execution_count": 38,
   "metadata": {},
   "outputs": [],
   "source": [
    "colon_ZIFA = DR.from_file('pymethods_out/colon_ZIFA.csv', name='ZIFA', labels=[None,None], barcodefile='pymethods_out/colon_clu.csv')\n",
    "colon_ZIFA.plot_barcodes(figsize=(4,4), save_to='../images/colon_ZIFA_barcodes.png')"
   ]
  },
  {
   "cell_type": "code",
   "execution_count": 10,
   "metadata": {},
   "outputs": [],
   "source": [
    "colon_scvis = DR.from_file('scvis_out/colon/perplexity_30_regularizer_0.001_batch_size_512_learning_rate_0.01_latent_dimension_2_activation_ELU_seed_1_iter_3000.tsv', labels=[0,0], name='scvis', barcodefile='pymethods_out/colon_clu.csv')\n",
    "colon_scvis = DR(latent=colon_scvis.arcsinh_norm(norm=None, scale=1), barcodes=colon_scvis.barcodes, name='scvis')\n",
    "colon_scvis.plot_barcodes(figsize=(4,4), save_to='../images/colon_scvis_barcodes.png')"
   ]
  },
  {
   "cell_type": "code",
   "execution_count": 40,
   "metadata": {},
   "outputs": [],
   "source": [
    "colon_ZINBWAVE = DR.from_file('Rmethods_out/colon_ZINB-WAVE.csv', labels=[None,0], name='ZINB-WaVE', barcodefile='pymethods_out/colon_clu.csv')\n",
    "colon_ZINBWAVE.plot_barcodes(figsize=(4,4), save_to='../images/colon_ZINBWAVE_barcodes.png')"
   ]
  },
  {
   "cell_type": "code",
   "execution_count": 41,
   "metadata": {},
   "outputs": [],
   "source": [
    "colon_SIMLR = DR.from_file('Rmethods_out/colon_SIMLR_ydata.csv', labels=[None,0], name='SIMLR', barcodefile='pymethods_out/colon_clu.csv')\n",
    "colon_SIMLR.plot_barcodes(figsize=(4,4), save_to='../images/colon_SIMLR_barcodes.png')"
   ]
  },
  {
   "cell_type": "code",
   "execution_count": 42,
   "metadata": {},
   "outputs": [],
   "source": [
    "colon_GLMPCA = DR.from_file('Rmethods_out/colon_GLM-PCA.csv', labels=[None,0], name='GLM-PC', barcodefile='pymethods_out/colon_clu.csv')\n",
    "colon_GLMPCA.plot_barcodes(figsize=(4,4), save_to='../images/colon_GLMPCA_barcodes.png')"
   ]
  }
 ],
 "metadata": {
  "kernelspec": {
   "display_name": "Python 3",
   "language": "python",
   "name": "python3"
  },
  "language_info": {
   "codemirror_mode": {
    "name": "ipython",
    "version": 3
   },
   "file_extension": ".py",
   "mimetype": "text/x-python",
   "name": "python",
   "nbconvert_exporter": "python",
   "pygments_lexer": "ipython3",
   "version": "3.6.5"
  }
 },
 "nbformat": 4,
 "nbformat_minor": 2
}
