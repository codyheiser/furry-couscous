{
 "cells": [
  {
   "cell_type": "code",
   "execution_count": 1,
   "metadata": {},
   "outputs": [],
   "source": [
    "from fcc import *"
   ]
  },
  {
   "cell_type": "markdown",
   "metadata": {},
   "source": [
    "---\n",
    "Read in entire cerebellum dataset to `pita` object"
   ]
  },
  {
   "cell_type": "code",
   "execution_count": null,
   "metadata": {},
   "outputs": [],
   "source": [
    "%time cerebellum_slide = pita.from_file(datafile='MappedDGE_filteredgenes.csv.gz', beadfile='BeadLocationsForR.csv.gz', data_type='counts')"
   ]
  },
  {
   "cell_type": "markdown",
   "metadata": {},
   "source": [
    "Subset cerebellum `pita` by pixel location for manageable image size"
   ]
  },
  {
   "cell_type": "code",
   "execution_count": null,
   "metadata": {},
   "outputs": [],
   "source": [
    "%time cerebellum_slide.snippet(xmin=1500, xmax=3000, ymin=1000, ymax=3000)"
   ]
  },
  {
   "cell_type": "code",
   "execution_count": null,
   "metadata": {},
   "outputs": [],
   "source": [
    "cerebellum_slide.data['counts'].shape"
   ]
  },
  {
   "cell_type": "code",
   "execution_count": null,
   "metadata": {},
   "outputs": [],
   "source": [
    "%time cerebellum_slide.map_pixels()"
   ]
  },
  {
   "cell_type": "code",
   "execution_count": null,
   "metadata": {},
   "outputs": [],
   "source": [
    "%time aldoc = cerebellum_slide.assemble_pita(data_type='counts', feature='Aldoc', plot_out=True)"
   ]
  },
  {
   "cell_type": "code",
   "execution_count": null,
   "metadata": {},
   "outputs": [],
   "source": [
    "%%time \n",
    "cerebellum_slide.fcc_PCA(data_type='counts', n_components=10, transform='arcsinh')\n",
    "cerebellum_slide.plot(data_type='PCA')"
   ]
  },
  {
   "cell_type": "code",
   "execution_count": null,
   "metadata": {},
   "outputs": [],
   "source": [
    "%%time \n",
    "cerebellum_slide.fcc_UMAP(data_type='PCA', perplexity=30, seed=18)\n",
    "cerebellum_slide.plot(data_type='UMAP', dim_name='UMAP')"
   ]
  },
  {
   "cell_type": "code",
   "execution_count": null,
   "metadata": {},
   "outputs": [],
   "source": [
    "PC1 = cerebellum_slide.assemble_pita(data_type='PCA', feature=0, plot_out=True)"
   ]
  },
  {
   "cell_type": "code",
   "execution_count": null,
   "metadata": {},
   "outputs": [],
   "source": [
    "cerebellum_slide.plot(data_type='slide-seq', color=cerebellum_slide.data['PCA'][:,0])"
   ]
  },
  {
   "cell_type": "code",
   "execution_count": null,
   "metadata": {},
   "outputs": [],
   "source": [
    "cerebellum_slide.data['slide-seq'].shape"
   ]
  },
  {
   "cell_type": "code",
   "execution_count": null,
   "metadata": {},
   "outputs": [],
   "source": [
    "cerebellum_slide.pixel_map.shape"
   ]
  },
  {
   "cell_type": "code",
   "execution_count": null,
   "metadata": {},
   "outputs": [],
   "source": [
    "# determine pixel bounds from bead locations\n",
    "xmin = np.floor(cerebellum_slide.data['slide-seq']['xcoord'].min())\n",
    "xmax = np.ceil(cerebellum_slide.data['slide-seq']['xcoord'].max())\n",
    "ymin = np.floor(cerebellum_slide.data['slide-seq']['ycoord'].min())\n",
    "ymax = np.ceil(cerebellum_slide.data['slide-seq']['ycoord'].max())\n",
    "\n",
    "# define grid for pixel space\n",
    "grid_x, grid_y = np.mgrid[xmin:xmax, ymin:ymax]"
   ]
  },
  {
   "cell_type": "code",
   "execution_count": null,
   "metadata": {},
   "outputs": [],
   "source": [
    "grid_x"
   ]
  },
  {
   "cell_type": "code",
   "execution_count": null,
   "metadata": {},
   "outputs": [],
   "source": []
  }
 ],
 "metadata": {
  "kernelspec": {
   "display_name": "Python 3",
   "language": "python",
   "name": "python3"
  },
  "language_info": {
   "codemirror_mode": {
    "name": "ipython",
    "version": 3
   },
   "file_extension": ".py",
   "mimetype": "text/x-python",
   "name": "python",
   "nbconvert_exporter": "python",
   "pygments_lexer": "ipython3",
   "version": "3.6.5"
  }
 },
 "nbformat": 4,
 "nbformat_minor": 2
}
