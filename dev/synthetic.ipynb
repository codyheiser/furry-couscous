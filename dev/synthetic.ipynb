{
 "cells": [
  {
   "cell_type": "markdown",
   "metadata": {},
   "source": [
    "# Synthetic Dataset & Scalability\n",
    "C. Heiser, 2019"
   ]
  },
  {
   "cell_type": "markdown",
   "metadata": {},
   "source": [
    "---\n",
    "__The purpose of this notebook is to evaluate our structural preservation metrics on a synthetic dataset of known high-dimensional structure and determine their scalability to datasets with a large number of observations.__  \n",
    "\n",
    "As a reminder, unique pairwise distances in a dataset with _n_ cells is calculated as:  \n",
    "$$D=(n*(n-1))/2$$  \n",
    "  \n",
    "To benchmark these techniques, we are using a **\"Swiss Roll\"** dataset built using `sklearn.datasets.make_swiss_roll()`."
   ]
  },
  {
   "cell_type": "code",
   "execution_count": 1,
   "metadata": {},
   "outputs": [],
   "source": [
    "import sys\n",
    "sys.path.append('../')\n",
    "from fcc_utils import *"
   ]
  },
  {
   "cell_type": "code",
   "execution_count": null,
   "metadata": {},
   "outputs": [],
   "source": [
    "# reload functions when editing file\n",
    "del sys.modules['fcc_utils']\n",
    "from fcc_utils import *"
   ]
  },
  {
   "cell_type": "code",
   "execution_count": 2,
   "metadata": {},
   "outputs": [],
   "source": [
    "from sklearn import datasets # for swiss roll dataset\n",
    "import mpl_toolkits.mplot3d.axes3d as p3 # 3D plotting"
   ]
  },
  {
   "cell_type": "markdown",
   "metadata": {},
   "source": [
    "---\n",
    "### 1K-Point Swiss Roll"
   ]
  },
  {
   "cell_type": "code",
   "execution_count": null,
   "metadata": {},
   "outputs": [],
   "source": [
    "X, t = datasets.make_swiss_roll(n_samples=1000, noise=0.0, random_state=18)"
   ]
  },
  {
   "cell_type": "code",
   "execution_count": null,
   "metadata": {},
   "outputs": [],
   "source": [
    "fig = plt.figure()\n",
    "ax = p3.Axes3D(fig)\n",
    "ax.view_init(12, -80)\n",
    "ax.scatter(X[:, 0], X[:, 1], X[:, 2], color=plt.cm.jet(t), s=20, edgecolor='k')"
   ]
  },
  {
   "cell_type": "code",
   "execution_count": null,
   "metadata": {},
   "outputs": [],
   "source": [
    "swiss_1k = sc.AnnData(X=X) # initialize AnnData\n",
    "swiss_1k.obs['pos'] = t # add univariate position according to main dim of manifold to .obs\n",
    "\n",
    "swiss_1k"
   ]
  },
  {
   "cell_type": "code",
   "execution_count": null,
   "metadata": {},
   "outputs": [],
   "source": [
    "# 'top down' view\n",
    "DR_plot().plot(swiss_1k.X, color=swiss_1k.obs['pos'])"
   ]
  },
  {
   "cell_type": "code",
   "execution_count": null,
   "metadata": {},
   "outputs": [],
   "source": [
    "# 'front' view\n",
    "DR_plot().plot(swiss_1k.X[:,[0,2]], color=swiss_1k.obs['pos'])"
   ]
  },
  {
   "cell_type": "code",
   "execution_count": null,
   "metadata": {},
   "outputs": [],
   "source": [
    "# perform PCA\n",
    "sc.tl.pca(swiss_1k, n_comps=2)"
   ]
  },
  {
   "cell_type": "code",
   "execution_count": null,
   "metadata": {},
   "outputs": [],
   "source": [
    "# create neighborhood graphs from PCA results for UMAP and Louvain clustering\n",
    "# heads-up: you will get a numba deprecation warning the first time you run this\n",
    "sc.pp.neighbors(swiss_1k, n_neighbors=30, use_rep='X', knn=True, random_state=18, metric='euclidean', copy=False)"
   ]
  },
  {
   "cell_type": "code",
   "execution_count": null,
   "metadata": {},
   "outputs": [],
   "source": [
    "# perform Louvain clustering\n",
    "sc.tl.louvain(swiss_1k, resolution=0.5, key_added='louvain', random_state=18, copy=False)\n",
    "# put cluster names in string column of .obs for plotting\n",
    "swiss_1k.obs['clusterID'] = 'cluster_' + swiss_1k.obs['louvain'].astype(str)"
   ]
  },
  {
   "cell_type": "code",
   "execution_count": null,
   "metadata": {},
   "outputs": [],
   "source": [
    "DR_plot(dim_name='PC').plot(swiss_1k.obsm['X_pca'], color=swiss_1k.obs['pos'])"
   ]
  },
  {
   "cell_type": "code",
   "execution_count": null,
   "metadata": {},
   "outputs": [],
   "source": [
    "DR_plot(dim_name='PC').plot_IDs(swiss_1k, use_rep='X_pca', obs_col='clusterID')"
   ]
  },
  {
   "cell_type": "code",
   "execution_count": null,
   "metadata": {},
   "outputs": [],
   "source": [
    "# perform UMAP\n",
    "sc.tl.umap(swiss_1k, random_state=18)"
   ]
  },
  {
   "cell_type": "code",
   "execution_count": null,
   "metadata": {},
   "outputs": [],
   "source": [
    "DR_plot(dim_name='UMAP').plot(swiss_1k.obsm['X_umap'], color=swiss_1k.obs['pos'])"
   ]
  },
  {
   "cell_type": "code",
   "execution_count": null,
   "metadata": {},
   "outputs": [],
   "source": [
    "DR_plot(dim_name='UMAP').plot_IDs(swiss_1k, use_rep='X_umap', obs_col='clusterID')"
   ]
  },
  {
   "cell_type": "code",
   "execution_count": null,
   "metadata": {},
   "outputs": [],
   "source": [
    "# perform t-SNE\n",
    "sc.tl.tsne(swiss_1k, use_rep='X', perplexity=30, random_state=18)"
   ]
  },
  {
   "cell_type": "code",
   "execution_count": null,
   "metadata": {},
   "outputs": [],
   "source": [
    "DR_plot(dim_name='t-SNE').plot(swiss_1k.obsm['X_tsne'], color=swiss_1k.obs['pos'])"
   ]
  },
  {
   "cell_type": "code",
   "execution_count": null,
   "metadata": {},
   "outputs": [],
   "source": [
    "DR_plot(dim_name='t-SNE').plot_IDs(swiss_1k, use_rep='X_tsne', obs_col='clusterID')"
   ]
  },
  {
   "cell_type": "code",
   "execution_count": null,
   "metadata": {},
   "outputs": [],
   "source": [
    "# create dictionaries for dumping results into\n",
    "final_distance_stats = {1000:{'R':{}, 'EMD':{}, 'Knn Pres.':{}, 'Time':{}}, 10000:{'R':{}, 'EMD':{}, 'Knn Pres.':{}, 'Time':{}}, 100000:{'R':{}, 'EMD':{}, 'Knn Pres.':{}, 'Time':{}}}"
   ]
  },
  {
   "cell_type": "code",
   "execution_count": null,
   "metadata": {},
   "outputs": [],
   "source": [
    "%%time\n",
    "# save distance matrices in AnnData object for easy access\n",
    "swiss_1k.uns['tsne_distance'] = pdist(swiss_1k.obsm['X_tsne'])\n",
    "swiss_1k.uns['umap_distance'] = pdist(swiss_1k.obsm['X_umap'])\n",
    "swiss_1k.uns['pca_distance'] = pdist(swiss_1k.obsm['X_pca'])\n",
    "swiss_1k.uns['native_distance'] = pdist(swiss_1k.X)"
   ]
  },
  {
   "cell_type": "code",
   "execution_count": null,
   "metadata": {},
   "outputs": [],
   "source": [
    "%%time\n",
    "pre_flat_norm, post_flat_norm, mantel_stats, EMD = distance_stats(pre=swiss_1k.uns['native_distance'], post=swiss_1k.uns['pca_distance'])\n",
    "print('R: {}\\nEMD: {}'.format(round(mantel_stats[0],4), round(EMD,4)))\n",
    "plt.figure(figsize=(4,4))\n",
    "plot_cumulative_distributions(pre_flat_norm, post_flat_norm)\n",
    "joint_plot_distance_correlation(pre_flat_norm, post_flat_norm)\n",
    "# dump o/p into dictionary\n",
    "final_distance_stats[1000]['R']['PCA (2)'], final_distance_stats[1000]['EMD']['PCA (2)'] = mantel_stats[0], EMD"
   ]
  },
  {
   "cell_type": "code",
   "execution_count": null,
   "metadata": {},
   "outputs": [],
   "source": [
    "%%time \n",
    "pre_flat_norm, post_flat_norm, mantel_stats, EMD = distance_stats(pre=swiss_1k.uns['native_distance'], post=swiss_1k.uns['tsne_distance'])\n",
    "print('R: {}\\nEMD: {}'.format(round(mantel_stats[0],4), round(EMD,4)))\n",
    "plt.figure(figsize=(4,4))\n",
    "plot_cumulative_distributions(pre_flat_norm, post_flat_norm)\n",
    "joint_plot_distance_correlation(pre_flat_norm, post_flat_norm)\n",
    "# dump o/p into dictionary\n",
    "final_distance_stats[1000]['R']['t-SNE'], final_distance_stats[1000]['EMD']['t-SNE'] = mantel_stats[0], EMD"
   ]
  },
  {
   "cell_type": "code",
   "execution_count": null,
   "metadata": {},
   "outputs": [],
   "source": [
    "%%time \n",
    "pre_flat_norm, post_flat_norm, mantel_stats, EMD = distance_stats(pre=swiss_1k.uns['native_distance'], post=swiss_1k.uns['umap_distance'])\n",
    "print('R: {}\\nEMD: {}'.format(round(mantel_stats[0],4), round(EMD,4)))\n",
    "plt.figure(figsize=(4,4))\n",
    "plot_cumulative_distributions(pre_flat_norm, post_flat_norm)\n",
    "joint_plot_distance_correlation(pre_flat_norm, post_flat_norm)\n",
    "# dump o/p into dictionary\n",
    "final_distance_stats[1000]['R']['UMAP'], final_distance_stats[1000]['EMD']['UMAP'] = mantel_stats[0], EMD"
   ]
  },
  {
   "cell_type": "markdown",
   "metadata": {},
   "source": [
    "---\n",
    "### 10K-Point Swiss Roll"
   ]
  },
  {
   "cell_type": "code",
   "execution_count": null,
   "metadata": {},
   "outputs": [],
   "source": [
    "X, t = datasets.make_swiss_roll(n_samples=10000, noise=0.0, random_state=18)"
   ]
  },
  {
   "cell_type": "code",
   "execution_count": null,
   "metadata": {},
   "outputs": [],
   "source": [
    "fig = plt.figure()\n",
    "ax = p3.Axes3D(fig)\n",
    "ax.view_init(12, -80)\n",
    "ax.scatter(X[:, 0], X[:, 1], X[:, 2], color=plt.cm.jet(t), s=20, edgecolor='k')"
   ]
  },
  {
   "cell_type": "code",
   "execution_count": null,
   "metadata": {},
   "outputs": [],
   "source": [
    "swiss_10k = sc.AnnData(X=X) # initialize AnnData\n",
    "swiss_10k.obs['pos'] = t # add univariate position according to main dim of manifold to .obs\n",
    "\n",
    "swiss_10k"
   ]
  },
  {
   "cell_type": "code",
   "execution_count": null,
   "metadata": {},
   "outputs": [],
   "source": [
    "# perform PCA\n",
    "sc.tl.pca(swiss_10k, n_comps=2)"
   ]
  },
  {
   "cell_type": "code",
   "execution_count": null,
   "metadata": {},
   "outputs": [],
   "source": [
    "# create neighborhood graphs from PCA results for UMAP and Louvain clustering\n",
    "# heads-up: you will get a numba deprecation warning the first time you run this\n",
    "sc.pp.neighbors(swiss_10k, n_neighbors=100, use_rep='X', knn=True, random_state=18, metric='euclidean', copy=False)"
   ]
  },
  {
   "cell_type": "code",
   "execution_count": null,
   "metadata": {},
   "outputs": [],
   "source": [
    "# perform Louvain clustering\n",
    "sc.tl.louvain(swiss_10k, resolution=0.5, key_added='louvain', random_state=18, copy=False)\n",
    "# put cluster names in string column of .obs for plotting\n",
    "swiss_10k.obs['clusterID'] = 'cluster_' + swiss_10k.obs['louvain'].astype(str)"
   ]
  },
  {
   "cell_type": "code",
   "execution_count": null,
   "metadata": {},
   "outputs": [],
   "source": [
    "DR_plot(dim_name='PC').plot(swiss_10k.obsm['X_pca'], color=swiss_10k.obs['pos'])"
   ]
  },
  {
   "cell_type": "code",
   "execution_count": null,
   "metadata": {},
   "outputs": [],
   "source": [
    "DR_plot(dim_name='PC').plot_IDs(swiss_10k, use_rep='X_pca', obs_col='clusterID')"
   ]
  },
  {
   "cell_type": "code",
   "execution_count": null,
   "metadata": {},
   "outputs": [],
   "source": [
    "# perform UMAP\n",
    "%time sc.tl.umap(swiss_10k, random_state=18)"
   ]
  },
  {
   "cell_type": "code",
   "execution_count": null,
   "metadata": {},
   "outputs": [],
   "source": [
    "DR_plot(dim_name='UMAP').plot(swiss_10k.obsm['X_umap'], color=swiss_10k.obs['pos'])"
   ]
  },
  {
   "cell_type": "code",
   "execution_count": null,
   "metadata": {},
   "outputs": [],
   "source": [
    "DR_plot(dim_name='UMAP').plot_IDs(swiss_10k, use_rep='X_umap', obs_col='clusterID')"
   ]
  },
  {
   "cell_type": "code",
   "execution_count": null,
   "metadata": {},
   "outputs": [],
   "source": [
    "# perform t-SNE\n",
    "%time sc.tl.tsne(swiss_10k, use_rep='X', perplexity=100, random_state=18)"
   ]
  },
  {
   "cell_type": "code",
   "execution_count": null,
   "metadata": {},
   "outputs": [],
   "source": [
    "DR_plot(dim_name='t-SNE').plot(swiss_10k.obsm['X_tsne'], color=swiss_10k.obs['pos'])"
   ]
  },
  {
   "cell_type": "code",
   "execution_count": null,
   "metadata": {},
   "outputs": [],
   "source": [
    "DR_plot(dim_name='t-SNE').plot_IDs(swiss_10k, use_rep='X_tsne', obs_col='clusterID')"
   ]
  },
  {
   "cell_type": "code",
   "execution_count": null,
   "metadata": {},
   "outputs": [],
   "source": [
    "%%time\n",
    "# save distance matrices in AnnData object for easy access\n",
    "swiss_10k.uns['tsne_distance'] = pdist(swiss_10k.obsm['X_tsne'])\n",
    "swiss_10k.uns['umap_distance'] = pdist(swiss_10k.obsm['X_umap'])\n",
    "swiss_10k.uns['pca_distance'] = pdist(swiss_10k.obsm['X_pca'])\n",
    "swiss_10k.uns['native_distance'] = pdist(swiss_10k.X)"
   ]
  },
  {
   "cell_type": "code",
   "execution_count": null,
   "metadata": {},
   "outputs": [],
   "source": [
    "%%time \n",
    "pre_flat_norm, post_flat_norm, mantel_stats, EMD = distance_stats(pre=swiss_10k.uns['native_distance'], post=swiss_10k.uns['pca_distance'])\n",
    "print('R: {}\\nEMD: {}'.format(round(mantel_stats[0],4), round(EMD,4)))\n",
    "plt.figure(figsize=(4,4))\n",
    "plot_cumulative_distributions(pre_flat_norm, post_flat_norm)\n",
    "joint_plot_distance_correlation(pre_flat_norm, post_flat_norm)\n",
    "# dump o/p into dictionary\n",
    "final_distance_stats[10000]['R']['PCA (2)'], final_distance_stats[10000]['EMD']['PCA (2)'] = mantel_stats[0], EMD"
   ]
  },
  {
   "cell_type": "code",
   "execution_count": null,
   "metadata": {},
   "outputs": [],
   "source": [
    "%%time \n",
    "pre_flat_norm, post_flat_norm, mantel_stats, EMD = distance_stats(pre=swiss_10k.uns['native_distance'], post=swiss_10k.uns['tsne_distance'])\n",
    "print('R: {}\\nEMD: {}'.format(round(mantel_stats[0],4), round(EMD,4)))\n",
    "plt.figure(figsize=(4,4))\n",
    "plot_cumulative_distributions(pre_flat_norm, post_flat_norm)\n",
    "joint_plot_distance_correlation(pre_flat_norm, post_flat_norm)\n",
    "# dump o/p into dictionary\n",
    "final_distance_stats[10000]['R']['t-SNE'], final_distance_stats[10000]['EMD']['t-SNE'] = mantel_stats[0], EMD"
   ]
  },
  {
   "cell_type": "code",
   "execution_count": null,
   "metadata": {},
   "outputs": [],
   "source": [
    "%%time \n",
    "pre_flat_norm, post_flat_norm, mantel_stats, EMD = distance_stats(pre=swiss_10k.uns['native_distance'], post=swiss_10k.uns['umap_distance'])\n",
    "print('R: {}\\nEMD: {}'.format(round(mantel_stats[0],4), round(EMD,4)))\n",
    "plt.figure(figsize=(4,4))\n",
    "plot_cumulative_distributions(pre_flat_norm, post_flat_norm)\n",
    "joint_plot_distance_correlation(pre_flat_norm, post_flat_norm)\n",
    "# dump o/p into dictionary\n",
    "final_distance_stats[10000]['R']['UMAP'], final_distance_stats[10000]['EMD']['UMAP'] = mantel_stats[0], EMD"
   ]
  },
  {
   "cell_type": "markdown",
   "metadata": {},
   "source": [
    "---\n",
    "### 20K-Point Swiss Roll"
   ]
  },
  {
   "cell_type": "code",
   "execution_count": null,
   "metadata": {},
   "outputs": [],
   "source": [
    "X, t = datasets.make_swiss_roll(n_samples=20000, noise=0.0, random_state=18)"
   ]
  },
  {
   "cell_type": "code",
   "execution_count": null,
   "metadata": {},
   "outputs": [],
   "source": [
    "fig = plt.figure()\n",
    "ax = p3.Axes3D(fig)\n",
    "ax.view_init(12, -80)\n",
    "ax.scatter(X[:, 0], X[:, 1], X[:, 2], color=plt.cm.jet(t), s=20, edgecolor='k')"
   ]
  },
  {
   "cell_type": "code",
   "execution_count": null,
   "metadata": {},
   "outputs": [],
   "source": [
    "swiss_20k = sc.AnnData(X=X) # initialize AnnData\n",
    "swiss_20k.obs['pos'] = t # add univariate position according to main dim of manifold to .obs\n",
    "\n",
    "swiss_20k"
   ]
  },
  {
   "cell_type": "code",
   "execution_count": null,
   "metadata": {},
   "outputs": [],
   "source": [
    "# perform PCA\n",
    "%time sc.tl.pca(swiss_20k, n_comps=2)"
   ]
  },
  {
   "cell_type": "code",
   "execution_count": null,
   "metadata": {},
   "outputs": [],
   "source": [
    "# create neighborhood graphs from PCA results for UMAP and Louvain clustering\n",
    "# heads-up: you will get a numba deprecation warning the first time you run this\n",
    "sc.pp.neighbors(swiss_20k, n_neighbors=150, use_rep='X', knn=True, random_state=18, metric='euclidean', copy=False)"
   ]
  },
  {
   "cell_type": "code",
   "execution_count": null,
   "metadata": {},
   "outputs": [],
   "source": [
    "%%time\n",
    "# perform Louvain clustering\n",
    "sc.tl.louvain(swiss_20k, resolution=0.5, key_added='louvain', random_state=18, copy=False)\n",
    "# put cluster names in string column of .obs for plotting\n",
    "swiss_20k.obs['clusterID'] = 'cluster_' + swiss_20k.obs['louvain'].astype(str)"
   ]
  },
  {
   "cell_type": "code",
   "execution_count": null,
   "metadata": {},
   "outputs": [],
   "source": [
    "DR_plot(dim_name='PC').plot(swiss_20k.obsm['X_pca'], color=swiss_20k.obs['pos'])"
   ]
  },
  {
   "cell_type": "code",
   "execution_count": null,
   "metadata": {},
   "outputs": [],
   "source": [
    "DR_plot(dim_name='PC').plot_IDs(adata=swiss_20k, use_rep='X_pca', obs_col='clusterID')"
   ]
  },
  {
   "cell_type": "code",
   "execution_count": null,
   "metadata": {},
   "outputs": [],
   "source": [
    "# perform UMAP\n",
    "%time sc.tl.umap(swiss_20k, random_state=18)"
   ]
  },
  {
   "cell_type": "code",
   "execution_count": null,
   "metadata": {},
   "outputs": [],
   "source": [
    "DR_plot(dim_name='UMAP').plot(swiss_20k.obsm['X_umap'], color=swiss_20k.obs['pos'])"
   ]
  },
  {
   "cell_type": "code",
   "execution_count": null,
   "metadata": {},
   "outputs": [],
   "source": [
    "DR_plot(dim_name='UMAP').plot_IDs(adata=swiss_20k, use_rep='X_umap', obs_col='clusterID')"
   ]
  },
  {
   "cell_type": "code",
   "execution_count": null,
   "metadata": {},
   "outputs": [],
   "source": [
    "# perform t-SNE\n",
    "%time sc.tl.tsne(swiss_20k, use_rep='X', perplexity=150, random_state=18)"
   ]
  },
  {
   "cell_type": "code",
   "execution_count": null,
   "metadata": {},
   "outputs": [],
   "source": [
    "DR_plot(dim_name='t-SNE').plot(swiss_20k.obsm['X_tsne'], color=swiss_20k.obs['pos'])"
   ]
  },
  {
   "cell_type": "code",
   "execution_count": null,
   "metadata": {},
   "outputs": [],
   "source": [
    "DR_plot(dim_name='t-SNE').plot_IDs(adata=swiss_20k, use_rep='X_tsne', obs_col='clusterID')"
   ]
  },
  {
   "cell_type": "code",
   "execution_count": null,
   "metadata": {},
   "outputs": [],
   "source": [
    "%%time\n",
    "# save distance matrices in AnnData object for easy access\n",
    "swiss_20k.uns['tsne_distance'] = pdist(swiss_20k.obsm['X_tsne'])\n",
    "swiss_20k.uns['umap_distance'] = pdist(swiss_20k.obsm['X_umap'])\n",
    "swiss_20k.uns['pca_distance'] = pdist(swiss_20k.obsm['X_pca'])\n",
    "swiss_20k.uns['native_distance'] = pdist(swiss_20k.X)"
   ]
  },
  {
   "cell_type": "code",
   "execution_count": null,
   "metadata": {},
   "outputs": [],
   "source": [
    "%%time \n",
    "pre_flat_norm, post_flat_norm, mantel_stats, EMD = distance_stats(pre=swiss_20k.uns['native_distance'], post=swiss_20k.uns['pca_distance'])\n",
    "print('R: {}\\nEMD: {}'.format(round(mantel_stats[0],4), round(EMD,4)))\n",
    "plt.figure(figsize=(4,4))\n",
    "plot_cumulative_distributions(pre_flat_norm, post_flat_norm)\n",
    "joint_plot_distance_correlation(pre_flat_norm, post_flat_norm)\n",
    "# dump o/p into dictionary\n",
    "#final_distance_stats[20000]['R']['PCA (2)'], final_distance_stats[20000]['EMD']['PCA (2)'] = mantel_stats[0], EMD"
   ]
  },
  {
   "cell_type": "code",
   "execution_count": null,
   "metadata": {},
   "outputs": [],
   "source": [
    "%%time \n",
    "pre_flat_norm, post_flat_norm, mantel_stats, EMD = distance_stats(pre=swiss_20k.uns['native_distance'], post=swiss_20k.uns['tsne_distance'])\n",
    "print('R: {}\\nEMD: {}'.format(round(mantel_stats[0],4), round(EMD,4)))\n",
    "plt.figure(figsize=(4,4))\n",
    "plot_cumulative_distributions(pre_flat_norm, post_flat_norm)\n",
    "joint_plot_distance_correlation(pre_flat_norm, post_flat_norm)\n",
    "# dump o/p into dictionary\n",
    "#final_distance_stats[20000]['R']['t-SNE'], final_distance_stats[20000]['EMD']['t-SNE'] = mantel_stats[0], EMD"
   ]
  },
  {
   "cell_type": "code",
   "execution_count": null,
   "metadata": {},
   "outputs": [],
   "source": [
    "%%time \n",
    "pre_flat_norm, post_flat_norm, mantel_stats, EMD = distance_stats(pre=swiss_20k.uns['native_distance'], post=swiss_20k.uns['umap_distance'])\n",
    "print('R: {}\\nEMD: {}'.format(round(mantel_stats[0],4), round(EMD,4)))\n",
    "plt.figure(figsize=(4,4))\n",
    "plot_cumulative_distributions(pre_flat_norm, post_flat_norm)\n",
    "joint_plot_distance_correlation(pre_flat_norm, post_flat_norm)\n",
    "# dump o/p into dictionary\n",
    "#final_distance_stats[20000]['R']['UMAP'], final_distance_stats[20000]['EMD']['UMAP'] = mantel_stats[0], EMD"
   ]
  },
  {
   "cell_type": "markdown",
   "metadata": {},
   "source": [
    "---\n",
    "### 50K-Point Swiss Roll"
   ]
  },
  {
   "cell_type": "code",
   "execution_count": 3,
   "metadata": {},
   "outputs": [],
   "source": [
    "X, t = datasets.make_swiss_roll(n_samples=50000, noise=0.0, random_state=18)"
   ]
  },
  {
   "cell_type": "code",
   "execution_count": 4,
   "metadata": {},
   "outputs": [
    {
     "data": {
      "text/plain": [
       "<mpl_toolkits.mplot3d.art3d.Path3DCollection at 0x131c4d450>"
      ]
     },
     "execution_count": 4,
     "metadata": {},
     "output_type": "execute_result"
    },
    {
     "data": {
      "image/png": "[encoded data removed]",
      "text/plain": [
       "<Figure size 432x288 with 1 Axes>"
      ]
     },
     "metadata": {
      "needs_background": "light"
     },
     "output_type": "display_data"
    }
   ],
   "source": [
    "fig = plt.figure()\n",
    "ax = p3.Axes3D(fig)\n",
    "ax.view_init(12, -80)\n",
    "ax.scatter(X[:, 0], X[:, 1], X[:, 2], color=plt.cm.jet(t), s=20, edgecolor='k')"
   ]
  },
  {
   "cell_type": "code",
   "execution_count": 5,
   "metadata": {},
   "outputs": [
    {
     "data": {
      "text/plain": [
       "AnnData object with n_obs × n_vars = 50000 × 3 \n",
       "    obs: 'pos'"
      ]
     },
     "execution_count": 5,
     "metadata": {},
     "output_type": "execute_result"
    }
   ],
   "source": [
    "swiss_50k = sc.AnnData(X=X) # initialize AnnData\n",
    "swiss_50k.obs['pos'] = t # add univariate position according to main dim of manifold to .obs\n",
    "\n",
    "swiss_50k"
   ]
  },
  {
   "cell_type": "code",
   "execution_count": 6,
   "metadata": {},
   "outputs": [
    {
     "name": "stdout",
     "output_type": "stream",
     "text": [
      "CPU times: user 40.8 ms, sys: 57.9 ms, total: 98.6 ms\n",
      "Wall time: 12.4 ms\n"
     ]
    }
   ],
   "source": [
    "# perform PCA\n",
    "%time sc.tl.pca(swiss_50k, n_comps=2)"
   ]
  },
  {
   "cell_type": "code",
   "execution_count": 7,
   "metadata": {
    "collapsed": true,
    "jupyter": {
     "outputs_hidden": true
    }
   },
   "outputs": [
    {
     "name": "stderr",
     "output_type": "stream",
     "text": [
      "/Users/cody/.virtualenvs/lau_lab/lib/python3.7/site-packages/umap/rp_tree.py:450: NumbaWarning: \n",
      "Compilation is falling back to object mode WITH looplifting enabled because Function \"make_euclidean_tree\" failed type inference due to: Cannot unify RandomProjectionTreeNode(array(int64, 1d, C), bool, none, none, none, none) and RandomProjectionTreeNode(none, bool, array(float32, 1d, C), float64, RandomProjectionTreeNode(array(int64, 1d, C), bool, none, none, none, none), RandomProjectionTreeNode(array(int64, 1d, C), bool, none, none, none, none)) for '$14.16', defined at /Users/cody/.virtualenvs/lau_lab/lib/python3.7/site-packages/umap/rp_tree.py (457)\n",
      "\n",
      "File \"../../../.virtualenvs/lau_lab/lib/python3.7/site-packages/umap/rp_tree.py\", line 457:\n",
      "def make_euclidean_tree(data, indices, rng_state, leaf_size=30):\n",
      "    <source elided>\n",
      "\n",
      "        left_node = make_euclidean_tree(data, left_indices, rng_state, leaf_size)\n",
      "        ^\n",
      "\n",
      "[1] During: resolving callee type: recursive(type(CPUDispatcher(<function make_euclidean_tree at 0x13a203560>)))\n",
      "[2] During: typing of call at /Users/cody/.virtualenvs/lau_lab/lib/python3.7/site-packages/umap/rp_tree.py (457)\n",
      "\n",
      "\n",
      "File \"../../../.virtualenvs/lau_lab/lib/python3.7/site-packages/umap/rp_tree.py\", line 457:\n",
      "def make_euclidean_tree(data, indices, rng_state, leaf_size=30):\n",
      "    <source elided>\n",
      "\n",
      "        left_node = make_euclidean_tree(data, left_indices, rng_state, leaf_size)\n",
      "        ^\n",
      "\n",
      "  @numba.jit()\n",
      "/Users/cody/.virtualenvs/lau_lab/lib/python3.7/site-packages/numba/compiler.py:742: NumbaWarning: Function \"make_euclidean_tree\" was compiled in object mode without forceobj=True.\n",
      "\n",
      "File \"../../../.virtualenvs/lau_lab/lib/python3.7/site-packages/umap/rp_tree.py\", line 451:\n",
      "@numba.jit()\n",
      "def make_euclidean_tree(data, indices, rng_state, leaf_size=30):\n",
      "^\n",
      "\n",
      "  self.func_ir.loc))\n",
      "/Users/cody/.virtualenvs/lau_lab/lib/python3.7/site-packages/numba/compiler.py:751: NumbaDeprecationWarning: \n",
      "Fall-back from the nopython compilation path to the object mode compilation path has been detected, this is deprecated behaviour.\n",
      "\n",
      "For more information visit http://numba.pydata.org/numba-doc/latest/reference/deprecation.html#deprecation-of-object-mode-fall-back-behaviour-when-using-jit\n",
      "\n",
      "File \"../../../.virtualenvs/lau_lab/lib/python3.7/site-packages/umap/rp_tree.py\", line 451:\n",
      "@numba.jit()\n",
      "def make_euclidean_tree(data, indices, rng_state, leaf_size=30):\n",
      "^\n",
      "\n",
      "  warnings.warn(errors.NumbaDeprecationWarning(msg, self.func_ir.loc))\n",
      "/Users/cody/.virtualenvs/lau_lab/lib/python3.7/site-packages/umap/nndescent.py:92: NumbaPerformanceWarning: \n",
      "The keyword argument 'parallel=True' was specified but no transformation for parallel execution was possible.\n",
      "\n",
      "To find out why, try turning on parallel diagnostics, see http://numba.pydata.org/numba-doc/latest/user/parallel.html#diagnostics for help.\n",
      "\n",
      "File \"../../../.virtualenvs/lau_lab/lib/python3.7/site-packages/umap/utils.py\", line 409:\n",
      "@numba.njit(parallel=True)\n",
      "def build_candidates(current_graph, n_vertices, n_neighbors, max_candidates, rng_state):\n",
      "^\n",
      "\n",
      "  current_graph, n_vertices, n_neighbors, max_candidates, rng_state\n",
      "/Users/cody/.virtualenvs/lau_lab/lib/python3.7/site-packages/numba/compiler.py:602: NumbaPerformanceWarning: \n",
      "The keyword argument 'parallel=True' was specified but no transformation for parallel execution was possible.\n",
      "\n",
      "To find out why, try turning on parallel diagnostics, see http://numba.pydata.org/numba-doc/latest/user/parallel.html#diagnostics for help.\n",
      "\n",
      "File \"../../../.virtualenvs/lau_lab/lib/python3.7/site-packages/umap/nndescent.py\", line 47:\n",
      "    @numba.njit(parallel=True)\n",
      "    def nn_descent(\n",
      "    ^\n",
      "\n",
      "  self.func_ir.loc))\n",
      "/Users/cody/.virtualenvs/lau_lab/lib/python3.7/site-packages/umap/umap_.py:349: NumbaWarning: \n",
      "Compilation is falling back to object mode WITH looplifting enabled because Function \"fuzzy_simplicial_set\" failed type inference due to: Untyped global name 'nearest_neighbors': cannot determine Numba type of <class 'function'>\n",
      "\n",
      "File \"../../../.virtualenvs/lau_lab/lib/python3.7/site-packages/umap/umap_.py\", line 467:\n",
      "def fuzzy_simplicial_set(\n",
      "    <source elided>\n",
      "    if knn_indices is None or knn_dists is None:\n",
      "        knn_indices, knn_dists, _ = nearest_neighbors(\n",
      "        ^\n",
      "\n",
      "  @numba.jit()\n",
      "/Users/cody/.virtualenvs/lau_lab/lib/python3.7/site-packages/numba/compiler.py:742: NumbaWarning: Function \"fuzzy_simplicial_set\" was compiled in object mode without forceobj=True.\n",
      "\n",
      "File \"../../../.virtualenvs/lau_lab/lib/python3.7/site-packages/umap/umap_.py\", line 350:\n",
      "@numba.jit()\n",
      "def fuzzy_simplicial_set(\n",
      "^\n",
      "\n",
      "  self.func_ir.loc))\n",
      "/Users/cody/.virtualenvs/lau_lab/lib/python3.7/site-packages/numba/compiler.py:751: NumbaDeprecationWarning: \n",
      "Fall-back from the nopython compilation path to the object mode compilation path has been detected, this is deprecated behaviour.\n",
      "\n",
      "For more information visit http://numba.pydata.org/numba-doc/latest/reference/deprecation.html#deprecation-of-object-mode-fall-back-behaviour-when-using-jit\n",
      "\n",
      "File \"../../../.virtualenvs/lau_lab/lib/python3.7/site-packages/umap/umap_.py\", line 350:\n",
      "@numba.jit()\n",
      "def fuzzy_simplicial_set(\n",
      "^\n",
      "\n",
      "  warnings.warn(errors.NumbaDeprecationWarning(msg, self.func_ir.loc))\n"
     ]
    },
    {
     "name": "stdout",
     "output_type": "stream",
     "text": [
      "CPU times: user 1min 7s, sys: 1.11 s, total: 1min 8s\n",
      "Wall time: 1min 7s\n"
     ]
    }
   ],
   "source": [
    "# create neighborhood graphs from PCA results for UMAP and Louvain clustering\n",
    "# heads-up: you will get a numba deprecation warning the first time you run this\n",
    "%time sc.pp.neighbors(swiss_50k, n_neighbors=225, use_rep='X', knn=True, random_state=18, metric='euclidean', copy=False)"
   ]
  },
  {
   "cell_type": "code",
   "execution_count": 8,
   "metadata": {},
   "outputs": [
    {
     "name": "stdout",
     "output_type": "stream",
     "text": [
      "CPU times: user 1min 25s, sys: 879 ms, total: 1min 26s\n",
      "Wall time: 1min 26s\n"
     ]
    }
   ],
   "source": [
    "%%time\n",
    "# perform Louvain clustering\n",
    "sc.tl.louvain(swiss_50k, resolution=0.5, key_added='louvain', random_state=18, copy=False)\n",
    "# put cluster names in string column of .obs for plotting\n",
    "swiss_50k.obs['clusterID'] = 'cluster_' + swiss_50k.obs['louvain'].astype(str)"
   ]
  },
  {
   "cell_type": "code",
   "execution_count": 9,
   "metadata": {},
   "outputs": [
    {
     "data": {
      "image/png": "[encoded data removed]",
      "text/plain": [
       "<Figure size 360x360 with 1 Axes>"
      ]
     },
     "metadata": {},
     "output_type": "display_data"
    }
   ],
   "source": [
    "DR_plot(dim_name='PC').plot(swiss_50k.obsm['X_pca'], color=swiss_50k.obs['pos'])"
   ]
  },
  {
   "cell_type": "code",
   "execution_count": 10,
   "metadata": {},
   "outputs": [
    {
     "name": "stdout",
     "output_type": "stream",
     "text": [
      "CPU times: user 1min 45s, sys: 3.93 s, total: 1min 49s\n",
      "Wall time: 1min 2s\n"
     ]
    }
   ],
   "source": [
    "# perform UMAP\n",
    "%time sc.tl.umap(swiss_50k, random_state=18)"
   ]
  },
  {
   "cell_type": "code",
   "execution_count": 11,
   "metadata": {},
   "outputs": [
    {
     "data": {
      "image/png": "[encoded data removed]",
      "text/plain": [
       "<Figure size 360x360 with 1 Axes>"
      ]
     },
     "metadata": {},
     "output_type": "display_data"
    }
   ],
   "source": [
    "DR_plot(dim_name='UMAP').plot(swiss_50k.obsm['X_umap'], color=swiss_50k.obs['pos'])"
   ]
  },
  {
   "cell_type": "code",
   "execution_count": 12,
   "metadata": {},
   "outputs": [
    {
     "name": "stdout",
     "output_type": "stream",
     "text": [
      "CPU times: user 11min 23s, sys: 7.65 s, total: 11min 31s\n",
      "Wall time: 11min 31s\n"
     ]
    }
   ],
   "source": [
    "# perform t-SNE\n",
    "%time sc.tl.tsne(swiss_50k, use_rep='X', perplexity=225, random_state=18)"
   ]
  },
  {
   "cell_type": "code",
   "execution_count": 13,
   "metadata": {},
   "outputs": [
    {
     "data": {
      "image/png": "[encoded data removed]",
      "text/plain": [
       "<Figure size 360x360 with 1 Axes>"
      ]
     },
     "metadata": {},
     "output_type": "display_data"
    }
   ],
   "source": [
    "DR_plot(dim_name='t-SNE').plot(swiss_50k.obsm['X_tsne'], color=swiss_50k.obs['pos'])"
   ]
  },
  {
   "cell_type": "code",
   "execution_count": 18,
   "metadata": {},
   "outputs": [
    {
     "name": "stdout",
     "output_type": "stream",
     "text": [
      "CPU times: user 18.4 s, sys: 11.1 s, total: 29.5 s\n",
      "Wall time: 33.7 s\n"
     ]
    }
   ],
   "source": [
    "%%time\n",
    "# save distance matrices in AnnData object for easy access\n",
    "swiss_50k.uns['tsne_distance'] = pdist(swiss_50k.obsm['X_tsne'])\n",
    "swiss_50k.uns['umap_distance'] = pdist(swiss_50k.obsm['X_umap'])\n",
    "swiss_50k.uns['pca_distance'] = pdist(swiss_50k.obsm['X_pca'])\n",
    "swiss_50k.uns['native_distance'] = pdist(swiss_50k.X)"
   ]
  },
  {
   "cell_type": "code",
   "execution_count": 19,
   "metadata": {},
   "outputs": [
    {
     "name": "stdout",
     "output_type": "stream",
     "text": [
      "CPU times: user 28.7 s, sys: 47.1 s, total: 1min 15s\n",
      "Wall time: 1min 29s\n"
     ]
    }
   ],
   "source": [
    "%time corr_stats = pearsonr(x=swiss_50k.uns['native_distance'], y=swiss_50k.uns['pca_distance'])"
   ]
  },
  {
   "cell_type": "code",
   "execution_count": 20,
   "metadata": {},
   "outputs": [
    {
     "name": "stdout",
     "output_type": "stream",
     "text": [
      "CPU times: user 13.2 s, sys: 10.9 s, total: 24.1 s\n",
      "Wall time: 24.9 s\n"
     ]
    }
   ],
   "source": [
    "%%time\n",
    "pre = swiss_50k.uns['native_distance'].copy()\n",
    "post = swiss_50k.uns['pca_distance'].copy()\n",
    "\n",
    "pre -= pre.min()\n",
    "pre /= pre.ptp()\n",
    "post -= post.min()\n",
    "post /= post.ptp()"
   ]
  },
  {
   "cell_type": "code",
   "execution_count": null,
   "metadata": {},
   "outputs": [],
   "source": [
    "%time EMD = wasserstein_1d(pre, post)"
   ]
  },
  {
   "cell_type": "code",
   "execution_count": null,
   "metadata": {},
   "outputs": [],
   "source": []
  },
  {
   "cell_type": "code",
   "execution_count": null,
   "metadata": {},
   "outputs": [],
   "source": [
    "%%time \n",
    "pre_flat_norm, post_flat_norm, mantel_stats, EMD = distance_stats(pre=swiss_50k.uns['native_distance'], post=swiss_50k.uns['pca_distance'])\n",
    "print('R: {}\\nEMD: {}'.format(round(mantel_stats[0],4), round(EMD,4)))\n",
    "plt.figure(figsize=(4,4))\n",
    "plot_cumulative_distributions(pre_flat_norm, post_flat_norm)\n",
    "joint_plot_distance_correlation(pre_flat_norm, post_flat_norm)\n",
    "# dump o/p into dictionary\n",
    "#final_distance_stats[50000]['R']['PCA (2)'], final_distance_stats[50000]['EMD']['PCA (2)'] = mantel_stats[0], EMD"
   ]
  },
  {
   "cell_type": "code",
   "execution_count": null,
   "metadata": {},
   "outputs": [],
   "source": [
    "%%time \n",
    "pre_flat_norm, post_flat_norm, mantel_stats, EMD = distance_stats(pre=swiss_50k.uns['native_distance'], post=swiss_50k.uns['tsne_distance'])\n",
    "print('R: {}\\nEMD: {}'.format(round(mantel_stats[0],4), round(EMD,4)))\n",
    "plt.figure(figsize=(4,4))\n",
    "plot_cumulative_distributions(pre_flat_norm, post_flat_norm)\n",
    "joint_plot_distance_correlation(pre_flat_norm, post_flat_norm)\n",
    "# dump o/p into dictionary\n",
    "#final_distance_stats[50000]['R']['t-SNE'], final_distance_stats[50000]['EMD']['t-SNE'] = mantel_stats[0], EMD"
   ]
  },
  {
   "cell_type": "code",
   "execution_count": null,
   "metadata": {},
   "outputs": [],
   "source": [
    "%%time \n",
    "pre_flat_norm, post_flat_norm, mantel_stats, EMD = distance_stats(pre=swiss_50k.uns['native_distance'], post=swiss_50k.uns['umap_distance'])\n",
    "print('R: {}\\nEMD: {}'.format(round(mantel_stats[0],4), round(EMD,4)))\n",
    "plt.figure(figsize=(4,4))\n",
    "plot_cumulative_distributions(pre_flat_norm, post_flat_norm)\n",
    "joint_plot_distance_correlation(pre_flat_norm, post_flat_norm)\n",
    "# dump o/p into dictionary\n",
    "#final_distance_stats[50000]['R']['UMAP'], final_distance_stats[50000]['EMD']['UMAP'] = mantel_stats[0], EMD"
   ]
  },
  {
   "cell_type": "markdown",
   "metadata": {},
   "source": [
    "---\n",
    "### 100K-Point Swiss Roll"
   ]
  },
  {
   "cell_type": "code",
   "execution_count": null,
   "metadata": {},
   "outputs": [],
   "source": [
    "X, t = datasets.make_swiss_roll(n_samples=100000, noise=0.0, random_state=18)"
   ]
  },
  {
   "cell_type": "code",
   "execution_count": null,
   "metadata": {},
   "outputs": [],
   "source": [
    "fig = plt.figure()\n",
    "ax = p3.Axes3D(fig)\n",
    "ax.view_init(12, -80)\n",
    "ax.scatter(X[:, 0], X[:, 1], X[:, 2], color=plt.cm.jet(t), s=20, edgecolor='k')"
   ]
  },
  {
   "cell_type": "code",
   "execution_count": null,
   "metadata": {},
   "outputs": [],
   "source": [
    "swiss_100k = sc.AnnData(X=X) # initialize AnnData\n",
    "swiss_100k.obs['pos'] = t # add univariate position according to main dim of manifold to .obs\n",
    "\n",
    "swiss_100k"
   ]
  },
  {
   "cell_type": "code",
   "execution_count": null,
   "metadata": {},
   "outputs": [],
   "source": [
    "# perform PCA\n",
    "%time sc.tl.pca(swiss_100k, n_comps=2)"
   ]
  },
  {
   "cell_type": "code",
   "execution_count": null,
   "metadata": {},
   "outputs": [],
   "source": [
    "# create neighborhood graphs from PCA results for UMAP and Louvain clustering\n",
    "# heads-up: you will get a numba deprecation warning the first time you run this\n",
    "sc.pp.neighbors(swiss_100k, n_neighbors=300, use_rep='X', knn=True, random_state=18, metric='euclidean', copy=False)"
   ]
  },
  {
   "cell_type": "code",
   "execution_count": null,
   "metadata": {},
   "outputs": [],
   "source": [
    "%%time\n",
    "# perform Louvain clustering\n",
    "sc.tl.louvain(swiss_100k, resolution=0.5, key_added='louvain', random_state=18, copy=False)\n",
    "# put cluster names in string column of .obs for plotting\n",
    "swiss_100k.obs['clusterID'] = 'cluster_' + swiss_100k.obs['louvain'].astype(str)"
   ]
  },
  {
   "cell_type": "code",
   "execution_count": null,
   "metadata": {},
   "outputs": [],
   "source": [
    "DR_plot(dim_name='PC').plot(swiss_100k.obsm['X_pca'], color=swiss_100k.obs['pos'])"
   ]
  },
  {
   "cell_type": "code",
   "execution_count": null,
   "metadata": {},
   "outputs": [],
   "source": [
    "DR_plot(dim_name='PC').plot_IDs(adata=swiss_100k, use_rep='X_pca', obs_col='clusterID')"
   ]
  },
  {
   "cell_type": "code",
   "execution_count": null,
   "metadata": {},
   "outputs": [],
   "source": [
    "# perform UMAP\n",
    "%time sc.tl.umap(swiss_100k, random_state=18)"
   ]
  },
  {
   "cell_type": "code",
   "execution_count": null,
   "metadata": {},
   "outputs": [],
   "source": [
    "DR_plot(dim_name='UMAP').plot(swiss_100k.obsm['X_umap'], color=swiss_100k.obs['pos'])"
   ]
  },
  {
   "cell_type": "code",
   "execution_count": null,
   "metadata": {},
   "outputs": [],
   "source": [
    "DR_plot(dim_name='UMAP').plot_IDs(adata=swiss_100k, use_rep='X_umap', obs_col='clusterID')"
   ]
  },
  {
   "cell_type": "code",
   "execution_count": null,
   "metadata": {},
   "outputs": [],
   "source": [
    "# perform t-SNE\n",
    "%time sc.tl.tsne(swiss_100k, use_rep='X', perplexity=300, random_state=18)"
   ]
  },
  {
   "cell_type": "code",
   "execution_count": null,
   "metadata": {},
   "outputs": [],
   "source": [
    "DR_plot(dim_name='t-SNE').plot(swiss_100k.obsm['X_tsne'], color=swiss_100k.obs['pos'])"
   ]
  },
  {
   "cell_type": "code",
   "execution_count": null,
   "metadata": {},
   "outputs": [],
   "source": [
    "DR_plot(dim_name='t-SNE').plot_IDs(adata=swiss_100k, use_rep='X_tsne', obs_col='clusterID')"
   ]
  },
  {
   "cell_type": "code",
   "execution_count": null,
   "metadata": {},
   "outputs": [],
   "source": [
    "%%time\n",
    "# save distance matrices in AnnData object for easy access\n",
    "swiss_100k.uns['tsne_distance'] = pdist(swiss_100k.obsm['X_tsne'])\n",
    "swiss_100k.uns['umap_distance'] = pdist(swiss_100k.obsm['X_umap'])\n",
    "swiss_100k.uns['pca_distance'] = pdist(swiss_100k.obsm['X_pca'])\n",
    "swiss_100k.uns['native_distance'] = pdist(swiss_100k.X)"
   ]
  },
  {
   "cell_type": "code",
   "execution_count": null,
   "metadata": {},
   "outputs": [],
   "source": [
    "%%time \n",
    "pre_flat_norm, post_flat_norm, mantel_stats, EMD = distance_stats(pre=swiss_100k.uns['native_distance'], post=swiss_100k.uns['pca_distance'])\n",
    "print('R: {}\\nEMD: {}'.format(round(mantel_stats[0],4), round(EMD,4)))\n",
    "plt.figure(figsize=(4,4))\n",
    "plot_cumulative_distributions(pre_flat_norm, post_flat_norm)\n",
    "joint_plot_distance_correlation(pre_flat_norm, post_flat_norm)\n",
    "# dump o/p into dictionary\n",
    "final_distance_stats[100000]['R']['PCA (2)'], final_distance_stats[100000]['EMD']['PCA (2)'] = mantel_stats[0], EMD"
   ]
  },
  {
   "cell_type": "code",
   "execution_count": null,
   "metadata": {},
   "outputs": [],
   "source": [
    "%%time \n",
    "pre_flat_norm, post_flat_norm, mantel_stats, EMD = distance_stats(pre=swiss_100k.uns['native_distance'], post=swiss_100k.uns['tsne_distance'])\n",
    "print('R: {}\\nEMD: {}'.format(round(mantel_stats[0],4), round(EMD,4)))\n",
    "plt.figure(figsize=(4,4))\n",
    "plot_cumulative_distributions(pre_flat_norm, post_flat_norm)\n",
    "joint_plot_distance_correlation(pre_flat_norm, post_flat_norm)\n",
    "# dump o/p into dictionary\n",
    "final_distance_stats[100000]['R']['t-SNE'], final_distance_stats[100000]['EMD']['t-SNE'] = mantel_stats[0], EMD"
   ]
  },
  {
   "cell_type": "code",
   "execution_count": null,
   "metadata": {},
   "outputs": [],
   "source": [
    "%%time \n",
    "pre_flat_norm, post_flat_norm, mantel_stats, EMD = distance_stats(pre=swiss_100k.uns['native_distance'], post=swiss_100k.uns['umap_distance'])\n",
    "print('R: {}\\nEMD: {}'.format(round(mantel_stats[0],4), round(EMD,4)))\n",
    "plt.figure(figsize=(4,4))\n",
    "plot_cumulative_distributions(pre_flat_norm, post_flat_norm)\n",
    "joint_plot_distance_correlation(pre_flat_norm, post_flat_norm)\n",
    "# dump o/p into dictionary\n",
    "final_distance_stats[100000]['R']['UMAP'], final_distance_stats[100000]['EMD']['UMAP'] = mantel_stats[0], EMD"
   ]
  },
  {
   "cell_type": "markdown",
   "metadata": {},
   "source": [
    "---\n",
    "### Knn Preservation"
   ]
  },
  {
   "cell_type": "code",
   "execution_count": null,
   "metadata": {},
   "outputs": [],
   "source": [
    "%%time\n",
    "knn_graph(distance_matrix(swiss_1k.X, swiss_1k.X), k=30, swiss_1k, save_rep='native_knn')\n",
    "knn_graph(distance_matrix(swiss_1k.obsm['X_pca'], swiss_1k.obsm['X_pca']), k=30, swiss_1k, save_rep='pca_knn')\n",
    "knn_graph(distance_matrix(swiss_1k.obsm['X_tsne'], swiss_1k.obsm['X_tsne']), k=30, swiss_1k, save_rep='tsne_knn')\n",
    "knn_graph(distance_matrix(swiss_1k.obsm['X_umap'], swiss_1k.obsm['X_umap']), k=30, swiss_1k, save_rep='umap_knn')"
   ]
  },
  {
   "cell_type": "code",
   "execution_count": null,
   "metadata": {},
   "outputs": [],
   "source": [
    "final_distance_stats[1000]['Knn Pres.']['PCA (2)'] = knn_preservation(pre=swiss_1k.uns['native_knn'], post=swiss_1k.uns['pca_knn'])\n",
    "final_distance_stats[1000]['Knn Pres.']['t-SNE'] = knn_preservation(pre=swiss_1k.uns['native_knn'], post=swiss_1k.uns['tsne_knn'])\n",
    "final_distance_stats[1000]['Knn Pres.']['UMAP'] = knn_preservation(pre=swiss_1k.uns['native_knn'], post=swiss_1k.uns['umap_knn'])"
   ]
  },
  {
   "cell_type": "code",
   "execution_count": null,
   "metadata": {},
   "outputs": [],
   "source": [
    "%%time\n",
    "knn_graph(distance_matrix(swiss_10k.X, swiss_10k.X), k=100, swiss_10k, save_rep='native_knn')\n",
    "knn_graph(distance_matrix(swiss_10k.obsm['X_pca'], swiss_10k.obsm['X_pca']), k=100, swiss_10k, save_rep='pca_knn')\n",
    "knn_graph(distance_matrix(swiss_10k.obsm['X_tsne'], swiss_10k.obsm['X_tsne']), k=100, swiss_10k, save_rep='tsne_knn')\n",
    "knn_graph(distance_matrix(swiss_10k.obsm['X_umap'], swiss_10k.obsm['X_umap']), k=100, swiss_10k, save_rep='umap_knn')"
   ]
  },
  {
   "cell_type": "code",
   "execution_count": null,
   "metadata": {},
   "outputs": [],
   "source": [
    "final_distance_stats[10000]['Knn Pres.']['PCA (2)'] = knn_preservation(pre=swiss_10k.uns['native_knn'], post=swiss_10k.uns['pca_knn'])\n",
    "final_distance_stats[10000]['Knn Pres.']['t-SNE'] = knn_preservation(pre=swiss_10k.uns['native_knn'], post=swiss_10k.uns['tsne_knn'])\n",
    "final_distance_stats[10000]['Knn Pres.']['UMAP'] = knn_preservation(pre=swiss_10k.uns['native_knn'], post=swiss_10k.uns['umap_knn'])"
   ]
  },
  {
   "cell_type": "code",
   "execution_count": null,
   "metadata": {},
   "outputs": [],
   "source": [
    "%%time\n",
    "knn_graph(distance_matrix(swiss_100k.X, swiss_100k.X), k=300, swiss_100k, save_rep='native_knn')\n",
    "knn_graph(distance_matrix(swiss_100k.obsm['X_pca'], swiss_100k.obsm['X_pca']), k=300, swiss_100k, save_rep='pca_knn')\n",
    "knn_graph(distance_matrix(swiss_100k.obsm['X_tsne'], swiss_100k.obsm['X_tsne']), k=300, swiss_100k, save_rep='tsne_knn')\n",
    "knn_graph(distance_matrix(swiss_100k.obsm['X_umap'], swiss_100k.obsm['X_umap']), k=300, swiss_100k, save_rep='umap_knn')"
   ]
  },
  {
   "cell_type": "code",
   "execution_count": null,
   "metadata": {},
   "outputs": [],
   "source": [
    "final_distance_stats[100000]['Knn Pres.']['PCA (2)'] = knn_preservation(pre=swiss_100k.uns['native_knn'], post=swiss_100k.uns['pca_knn'])\n",
    "final_distance_stats[100000]['Knn Pres.']['t-SNE'] = knn_preservation(pre=swiss_100k.uns['native_knn'], post=swiss_100k.uns['tsne_knn'])\n",
    "final_distance_stats[100000]['Knn Pres.']['UMAP'] = knn_preservation(pre=swiss_100k.uns['native_knn'], post=swiss_100k.uns['umap_knn'])"
   ]
  },
  {
   "cell_type": "markdown",
   "metadata": {},
   "source": [
    "---\n",
    "### Timing"
   ]
  },
  {
   "cell_type": "code",
   "execution_count": null,
   "metadata": {},
   "outputs": [],
   "source": [
    "times = %timeit -n 1 -r 3 distance_stats(pre=swiss_1k.uns['native_distance'], post=swiss_1k.uns['pca_distance'])"
   ]
  }
 ],
 "metadata": {
  "kernelspec": {
   "display_name": "Python 3",
   "language": "python",
   "name": "python3"
  },
  "language_info": {
   "codemirror_mode": {
    "name": "ipython",
    "version": 3
   },
   "file_extension": ".py",
   "mimetype": "text/x-python",
   "name": "python",
   "nbconvert_exporter": "python",
   "pygments_lexer": "ipython3",
   "version": "3.7.4"
  }
 },
 "nbformat": 4,
 "nbformat_minor": 4
}
